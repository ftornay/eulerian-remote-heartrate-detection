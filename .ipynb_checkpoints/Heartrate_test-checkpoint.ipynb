{
 "cells": [
  {
   "cell_type": "markdown",
   "metadata": {
    "colab_type": "text",
    "id": "view-in-github"
   },
   "source": [
    "<a href=\"https://colab.research.google.com/github/ftornay/eulerian-remote-heartrate-detection/blob/master/Heartrate_test.ipynb\" target=\"_parent\"><img src=\"https://colab.research.google.com/assets/colab-badge.svg\" alt=\"Open In Colab\"/></a>"
   ]
  },
  {
   "cell_type": "code",
   "execution_count": 3,
   "metadata": {
    "colab": {
     "base_uri": "https://localhost:8080/",
     "height": 86
    },
    "colab_type": "code",
    "id": "4bgHVFc2fUjN",
    "outputId": "fda08092-96c5-4071-f19f-a281f816c59e"
   },
   "outputs": [
    {
     "name": "stdout",
     "output_type": "stream",
     "text": [
      "Cloning into 'eulerian-remote-heartrate-detection'...\n",
      "remote: Enumerating objects: 64, done.\u001b[K\n",
      "remote: Total 64 (delta 0), reused 0 (delta 0), pack-reused 64\u001b[K\n",
      "Unpacking objects: 100% (64/64), done.\n"
     ]
    }
   ],
   "source": [
    "!git clone https://github.com/ftornay/eulerian-remote-heartrate-detection.git"
   ]
  },
  {
   "cell_type": "code",
   "execution_count": 1,
   "metadata": {
    "colab": {
     "base_uri": "https://localhost:8080/",
     "height": 34
    },
    "colab_type": "code",
    "id": "3VSiiUdsfaFC",
    "outputId": "33f29453-a20a-49dd-c8f1-7b146a114cf6"
   },
   "outputs": [
    {
     "name": "stdout",
     "output_type": "stream",
     "text": [
      "[Errno 2] No such file or directory: 'eulerian-remote-heartrate-detection'\n",
      "/home/rubn/eulerian-remote-heartrate-detection\n"
     ]
    }
   ],
   "source": [
    "cd eulerian-remote-heartrate-detection"
   ]
  },
  {
   "cell_type": "code",
   "execution_count": 2,
   "metadata": {
    "colab": {},
    "colab_type": "code",
    "id": "FL5waiyVfD3q"
   },
   "outputs": [],
   "source": [
    "import cv2\n",
    "import pyramids\n",
    "import heartrate\n",
    "import preprocessing\n",
    "import eulerian"
   ]
  },
  {
   "cell_type": "code",
   "execution_count": 3,
   "metadata": {
    "colab": {},
    "colab_type": "code",
    "id": "BBaNWaPufu3L"
   },
   "outputs": [],
   "source": [
    "# Frequency range for Fast-Fourier Transform\n",
    "freq_min = 1\n",
    "freq_max = 1.8"
   ]
  },
  {
   "cell_type": "code",
   "execution_count": 4,
   "metadata": {
    "colab": {
     "base_uri": "https://localhost:8080/",
     "height": 34
    },
    "colab_type": "code",
    "id": "dn9PPKcZfya_",
    "outputId": "005c9f60-b959-4378-fcde-131e5c18639e"
   },
   "outputs": [
    {
     "name": "stdout",
     "output_type": "stream",
     "text": [
      "Reading + preprocessing video...\n"
     ]
    }
   ],
   "source": [
    "# Preprocessing phase\n",
    "print(\"Reading + preprocessing video...\")\n",
    "video_frames, frame_ct, fps = preprocessing.read_video(\"videos/rohin_active.mov\")"
   ]
  },
  {
   "cell_type": "code",
   "execution_count": 5,
   "metadata": {
    "colab": {
     "base_uri": "https://localhost:8080/",
     "height": 34
    },
    "colab_type": "code",
    "id": "GovNJAR9f4ny",
    "outputId": "9451e19c-e206-4ec5-fba1-bb42499b5617"
   },
   "outputs": [
    {
     "name": "stdout",
     "output_type": "stream",
     "text": [
      "Building Laplacian video pyramid...\n"
     ]
    }
   ],
   "source": [
    "# Build Laplacian video pyramid\n",
    "print(\"Building Laplacian video pyramid...\")\n",
    "lap_video = pyramids.build_video_pyramid(video_frames)"
   ]
  },
  {
   "cell_type": "code",
   "execution_count": 6,
   "metadata": {
    "colab": {
     "base_uri": "https://localhost:8080/",
     "height": 52
    },
    "colab_type": "code",
    "id": "L4OlUGXFf-Dy",
    "outputId": "4f11e308-dc45-43a3-9b7a-780765fea3f4"
   },
   "outputs": [
    {
     "name": "stdout",
     "output_type": "stream",
     "text": [
      "Running FFT and Eulerian magnification...\n",
      "Calculating heart rate...\n"
     ]
    }
   ],
   "source": [
    "amplified_video_pyramid = []\n",
    "\n",
    "for i, video in enumerate(lap_video):\n",
    "    if i == 0 or i == len(lap_video)-1:\n",
    "        continue\n",
    "\n",
    "    # Eulerian magnification with temporal FFT filtering\n",
    "    print(\"Running FFT and Eulerian magnification...\")\n",
    "    result, fft, frequencies = eulerian.fft_filter(video, freq_min, freq_max, fps)\n",
    "    lap_video[i] += result\n",
    "\n",
    "    # Calculate heart rate\n",
    "    print(\"Calculating heart rate...\")\n",
    "    heart_rate = heartrate.find_heart_rate(fft, frequencies, freq_min, freq_max)"
   ]
  },
  {
   "cell_type": "code",
   "execution_count": 7,
   "metadata": {
    "colab": {
     "base_uri": "https://localhost:8080/",
     "height": 34
    },
    "colab_type": "code",
    "id": "4G3Ef655gFTX",
    "outputId": "7dcf1039-f906-4457-d794-00ea3f9cf7e3"
   },
   "outputs": [
    {
     "name": "stdout",
     "output_type": "stream",
     "text": [
      "Rebuilding final video...\n"
     ]
    }
   ],
   "source": [
    "# Collapse laplacian pyramid to generate final video\n",
    "print(\"Rebuilding final video...\")\n",
    "amplified_frames = pyramids.collapse_laplacian_video_pyramid(lap_video, frame_ct)"
   ]
  },
  {
   "cell_type": "code",
   "execution_count": 13,
   "metadata": {
    "colab": {
     "base_uri": "https://localhost:8080/",
     "height": 1000
    },
    "colab_type": "code",
    "id": "HQ63cLCWgOXr",
    "outputId": "d65e73e2-a515-4f03-b4db-36cd4fedfc9c"
   },
   "outputs": [
    {
     "ename": "SyntaxError",
     "evalue": "invalid syntax (<ipython-input-13-7f1f106166f7>, line 1)",
     "output_type": "error",
     "traceback": [
      "\u001b[0;36m  File \u001b[0;32m\"<ipython-input-13-7f1f106166f7>\"\u001b[0;36m, line \u001b[0;32m1\u001b[0m\n\u001b[0;31m    from cv2 import cv2.imshow # Replaces cv2.imshow in Colab\u001b[0m\n\u001b[0m                       ^\u001b[0m\n\u001b[0;31mSyntaxError\u001b[0m\u001b[0;31m:\u001b[0m invalid syntax\n"
     ]
    }
   ],
   "source": [
    "from cv2 import cv2.imshow # Replaces cv2.imshow in Colab\n",
    "# Output heart rate and final video\n",
    "print(\"Heart rate: \", heart_rate, \"bpm\")\n",
    "print(\"Displaying final video...\")\n",
    "\n",
    "for frame in amplified_frames:\n",
    "    cv2_imshow(frame)\n",
    "    cv2.waitKey(20)"
   ]
  },
  {
   "cell_type": "code",
   "execution_count": 0,
   "metadata": {
    "colab": {},
    "colab_type": "code",
    "id": "GbTZyiaUgmkO"
   },
   "outputs": [],
   "source": []
  }
 ],
 "metadata": {
  "accelerator": "GPU",
  "colab": {
   "authorship_tag": "ABX9TyPauHgT+ZLk7Izl4EWhhT9a",
   "collapsed_sections": [],
   "include_colab_link": true,
   "name": "Heartrate_test.ipynb",
   "provenance": []
  },
  "kernelspec": {
   "display_name": "Python 3",
   "language": "python",
   "name": "python3"
  },
  "language_info": {
   "codemirror_mode": {
    "name": "ipython",
    "version": 3
   },
   "file_extension": ".py",
   "mimetype": "text/x-python",
   "name": "python",
   "nbconvert_exporter": "python",
   "pygments_lexer": "ipython3",
   "version": "3.6.9"
  }
 },
 "nbformat": 4,
 "nbformat_minor": 1
}
